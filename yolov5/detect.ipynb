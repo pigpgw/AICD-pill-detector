{
 "cells": [
  {
   "cell_type": "markdown",
   "metadata": {
    "id": "a7G6vagA5g8a"
   },
   "source": [
    "# <strong>** 꼭 먼저 실행해주셔야합니다. - 두분 모두 공통으로 **\n",
    "본인꺼에서 수행시 본인 yolov5 폴더 존재하는 경로로 변경해주세요\n",
    "\n",
    "밑에 각자 본인꺼있어용"
   ]
  },
  {
   "cell_type": "code",
   "execution_count": 1,
   "metadata": {
    "colab": {
     "base_uri": "https://localhost:8080/"
    },
    "executionInfo": {
     "elapsed": 4,
     "status": "ok",
     "timestamp": 1686728681115,
     "user": {
      "displayName": "알약",
      "userId": "09675188480547128646"
     },
     "user_tz": -540
    },
    "id": "JuNps3oQWr8M",
    "outputId": "5b415056-50e6-4be2-96e7-af502dfaa0e8"
   },
   "outputs": [
    {
     "name": "stdout",
     "output_type": "stream",
     "text": [
      "/content/drive/MyDrive/yolov5\n"
     ]
    }
   ],
   "source": [
    "# yolo 파일이 존재하는 경로로 이동\n",
    "%cd /content/drive/MyDrive/yolov5"
   ]
  },
  {
   "cell_type": "markdown",
   "metadata": {
    "id": "0kMnBPKI3Y-T"
   },
   "source": [
    "#img source - 이미지 경로 뒤에 숫자만 변경하시면 됩니다. ex(~~/mod1.jpeg -> ~~/mod2.jpeg)이렇게\n",
    "\n",
    "## mod1 ~ 5까지 존재 밑에 경로 source에 붙여넣고 1~5만 수정하기\n",
    "\"/content/drive/MyDrive/yolov5/detect-테스트사진/MODCD/mod1.jpeg\"\n",
    "\n",
    "### nr1 ~ 10까지 존재 밑에 경로 source에 붙여넣고 1~10만 수정하기\n",
    "\"/content/drive/MyDrive/yolov5/detect-테스트사진/NR/nr1.jpeg\"\n",
    "### STH1 ~ 10까지 존재 밑에 경로 source에 붙여넣고 1~10만 수정하기\n",
    "\"/content/drive/MyDrive/yolov5/detect-테스트사진/STH/sth1.jpeg\"\n",
    "### tak-sen 5까지 존재\n",
    "\"/content/drive/MyDrive/yolov5/detect-테스트사진/TAK-SEN/tak1.jpeg\"\n",
    "\n",
    "### solufen 1~ 6\n",
    "\"/content/drive/MyDrive/yolov5/detect-테스트사진/solufen/solu1.jpeg\""
   ]
  },
  {
   "cell_type": "markdown",
   "metadata": {
    "id": "-BqR9UxY9Yv2"
   },
   "source": [
    "# <strong> ** 중요 별 2억개 - 다른거 무시해도되니 이건 읽기 **\n",
    "detect 실행하면 그냥 exp라고 나와서 돌아가면서 막 돌리면 꼬여버려요 이점 같이 의논해봐요^^"
   ]
  },
  {
   "cell_type": "markdown",
   "metadata": {
    "id": "lVqxFQV15qqV"
   },
   "source": [
    "# 핵 돼지 건우꺼"
   ]
  },
  {
   "cell_type": "code",
   "execution_count": 84,
   "metadata": {},
   "outputs": [
    {
     "name": "stdout",
     "output_type": "stream",
     "text": [
      "/home/jovyan/Desktop/park/yolov5\n"
     ]
    }
   ],
   "source": [
    "cd yolov5/"
   ]
  },
  {
   "cell_type": "code",
   "execution_count": 93,
   "metadata": {},
   "outputs": [
    {
     "name": "stdout",
     "output_type": "stream",
     "text": [
      "\u001b[34m\u001b[1mtrain: \u001b[0mweights=yolov5m.pt, cfg=, data=./data/data_pill.yaml, hyp=data/hyps/hyp.scratch-low.yaml, epochs=100, batch_size=16, imgsz=640, rect=False, resume=False, nosave=False, noval=False, noautoanchor=False, noplots=False, evolve=None, bucket=, cache=None, image_weights=False, device=, multi_scale=False, single_cls=False, optimizer=SGD, sync_bn=False, workers=0, project=runs/train, name=exp, exist_ok=False, quad=False, cos_lr=False, label_smoothing=0.0, patience=100, freeze=[0], save_period=-1, seed=0, local_rank=-1, entity=None, upload_dataset=False, bbox_interval=-1, artifact_alias=latest\n",
      "\u001b[34m\u001b[1mgithub: \u001b[0mskipping check (not a git repository), for updates see https://github.com/ultralytics/yolov5\n",
      "\u001b[31m\u001b[1mrequirements:\u001b[0m /home/jovyan/Desktop/park/requirements.txt not found, check failed.\n",
      "YOLOv5 🚀 2023-5-6 Python-3.8.10 torch-2.0.1+cu117 CUDA:0 (NVIDIA A100-SXM4-40GB, 40396MiB)\n",
      "\n",
      "\u001b[34m\u001b[1mhyperparameters: \u001b[0mlr0=0.01, lrf=0.01, momentum=0.937, weight_decay=0.0005, warmup_epochs=3.0, warmup_momentum=0.8, warmup_bias_lr=0.1, box=0.05, cls=0.5, cls_pw=1.0, obj=1.0, obj_pw=1.0, iou_t=0.2, anchor_t=4.0, fl_gamma=0.0, hsv_h=0.015, hsv_s=0.7, hsv_v=0.4, degrees=0.0, translate=0.1, scale=0.5, shear=0.0, perspective=0.0, flipud=0.0, fliplr=0.5, mosaic=1.0, mixup=0.0, copy_paste=0.0\n",
      "\u001b[34m\u001b[1mClearML: \u001b[0mrun 'pip install clearml' to automatically track, visualize and remotely train YOLOv5 🚀 in ClearML\n",
      "\u001b[34m\u001b[1mComet: \u001b[0mrun 'pip install comet_ml' to automatically track and visualize YOLOv5 🚀 runs in Comet\n",
      "\u001b[34m\u001b[1mTensorBoard: \u001b[0mStart with 'tensorboard --logdir runs/train', view at http://localhost:6006/\n",
      "Overriding model.yaml nc=80 with nc=5\n",
      "\n",
      "                 from  n    params  module                                  arguments                     \n",
      "  0                -1  1      5280  models.common.Conv                      [3, 48, 6, 2, 2]              \n",
      "  1                -1  1     41664  models.common.Conv                      [48, 96, 3, 2]                \n",
      "  2                -1  2     65280  models.common.C3                        [96, 96, 2]                   \n",
      "  3                -1  1    166272  models.common.Conv                      [96, 192, 3, 2]               \n",
      "  4                -1  4    444672  models.common.C3                        [192, 192, 4]                 \n",
      "  5                -1  1    664320  models.common.Conv                      [192, 384, 3, 2]              \n",
      "  6                -1  6   2512896  models.common.C3                        [384, 384, 6]                 \n",
      "  7                -1  1   2655744  models.common.Conv                      [384, 768, 3, 2]              \n",
      "  8                -1  2   4134912  models.common.C3                        [768, 768, 2]                 \n",
      "  9                -1  1   1476864  models.common.SPPF                      [768, 768, 5]                 \n",
      " 10                -1  1    295680  models.common.Conv                      [768, 384, 1, 1]              \n",
      " 11                -1  1         0  torch.nn.modules.upsampling.Upsample    [None, 2, 'nearest']          \n",
      " 12           [-1, 6]  1         0  models.common.Concat                    [1]                           \n",
      " 13                -1  2   1182720  models.common.C3                        [768, 384, 2, False]          \n",
      " 14                -1  1     74112  models.common.Conv                      [384, 192, 1, 1]              \n",
      " 15                -1  1         0  torch.nn.modules.upsampling.Upsample    [None, 2, 'nearest']          \n",
      " 16           [-1, 4]  1         0  models.common.Concat                    [1]                           \n",
      " 17                -1  2    296448  models.common.C3                        [384, 192, 2, False]          \n",
      " 18                -1  1    332160  models.common.Conv                      [192, 192, 3, 2]              \n",
      " 19          [-1, 14]  1         0  models.common.Concat                    [1]                           \n",
      " 20                -1  2   1035264  models.common.C3                        [384, 384, 2, False]          \n",
      " 21                -1  1   1327872  models.common.Conv                      [384, 384, 3, 2]              \n",
      " 22          [-1, 10]  1         0  models.common.Concat                    [1]                           \n",
      " 23                -1  2   4134912  models.common.C3                        [768, 768, 2, False]          \n",
      " 24      [17, 20, 23]  1     40410  models.yolo.Detect                      [5, [[10, 13, 16, 30, 33, 23], [30, 61, 62, 45, 59, 119], [116, 90, 156, 198, 373, 326]], [192, 384, 768]]\n",
      "Model summary: 291 layers, 20887482 parameters, 20887482 gradients\n",
      "\n",
      "Transferred 475/481 items from yolov5m.pt\n",
      "\u001b[34m\u001b[1mAMP: \u001b[0mchecks passed ✅\n",
      "\u001b[34m\u001b[1moptimizer:\u001b[0m SGD(lr=0.01) with parameter groups 79 weight(decay=0.0), 82 weight(decay=0.0005), 82 bias\n",
      "\u001b[34m\u001b[1mtrain: \u001b[0mScanning /home/jovyan/Desktop/park/yolov5/data/images/test/labels.cache..\u001b[0m\n",
      "\u001b[34m\u001b[1mval: \u001b[0mScanning /home/jovyan/Desktop/park/yolov5/data/images/valid/labels.cache...\u001b[0m\n",
      "\n",
      "\u001b[34m\u001b[1mAutoAnchor: \u001b[0m4.60 anchors/target, 1.000 Best Possible Recall (BPR). Current anchors are a good fit to dataset ✅\n",
      "Plotting labels to runs/train/exp/labels.jpg... \n",
      "Image sizes 640 train, 640 val\n",
      "Using 0 dataloader workers\n",
      "Logging results to \u001b[1mruns/train/exp\u001b[0m\n",
      "Starting training for 100 epochs...\n",
      "\n",
      "      Epoch    GPU_mem   box_loss   obj_loss   cls_loss  Instances       Size\n",
      "       0/99      5.66G     0.1229    0.03157    0.05444         31        640: 1\n",
      "                 Class     Images  Instances          P          R      mAP50   \n",
      "                   all         26         44    0.00133      0.255    0.00135   0.000294\n",
      "\n",
      "      Epoch    GPU_mem   box_loss   obj_loss   cls_loss  Instances       Size\n",
      "       1/99      6.66G     0.1183    0.03095    0.05377         28        640: 1\n",
      "                 Class     Images  Instances          P          R      mAP50   \n",
      "                   all         26         44   0.000885      0.192    0.00082   9.89e-05\n",
      "\n",
      "      Epoch    GPU_mem   box_loss   obj_loss   cls_loss  Instances       Size\n",
      "       2/99      6.66G     0.1227    0.02911    0.05196         24        640: 1\n",
      "                 Class     Images  Instances          P          R      mAP50   \n",
      "                   all         26         44   0.000488     0.0917   0.000435   7.68e-05\n",
      "\n",
      "      Epoch    GPU_mem   box_loss   obj_loss   cls_loss  Instances       Size\n",
      "       3/99      6.66G     0.1212    0.03138    0.05358         31        640: 1\n",
      "                 Class     Images  Instances          P          R      mAP50   \n",
      "                   all         26         44   0.000493     0.0917   0.000451   7.96e-05\n",
      "\n",
      "      Epoch    GPU_mem   box_loss   obj_loss   cls_loss  Instances       Size\n",
      "       4/99      6.66G     0.1189     0.0294    0.05381         29        640: 1\n",
      "                 Class     Images  Instances          P          R      mAP50   \n",
      "                   all         26         44   0.000772       0.12   0.000612   0.000107\n",
      "\n",
      "      Epoch    GPU_mem   box_loss   obj_loss   cls_loss  Instances       Size\n",
      "       5/99      6.66G     0.1166    0.03217     0.0524         33        640: 1\n",
      "                 Class     Images  Instances          P          R      mAP50   \n",
      "                   all         26         44   0.000991      0.133   0.000765   0.000115\n",
      "\n",
      "      Epoch    GPU_mem   box_loss   obj_loss   cls_loss  Instances       Size\n",
      "       6/99      6.66G     0.1091    0.03141    0.05187         29        640: 1\n",
      "                 Class     Images  Instances          P          R      mAP50   \n",
      "                   all         26         44     0.0013      0.124    0.00388    0.00101\n",
      "\n",
      "      Epoch    GPU_mem   box_loss   obj_loss   cls_loss  Instances       Size\n",
      "       7/99      6.66G      0.111    0.03216    0.05182         30        640: 1\n",
      "                 Class     Images  Instances          P          R      mAP50   \n",
      "                   all         26         44    0.00128      0.145    0.00442    0.00154\n",
      "\n",
      "      Epoch    GPU_mem   box_loss   obj_loss   cls_loss  Instances       Size\n",
      "       8/99      6.66G      0.105    0.03494    0.05085         37        640: 1\n",
      "                 Class     Images  Instances          P          R      mAP50   \n",
      "                   all         26         44    0.00224      0.213    0.00674    0.00262\n"
     ]
    },
    {
     "name": "stdout",
     "output_type": "stream",
     "text": [
      "\n",
      "      Epoch    GPU_mem   box_loss   obj_loss   cls_loss  Instances       Size\n",
      "       9/99      6.66G     0.1006    0.03511    0.04896         33        640: 1\n",
      "                 Class     Images  Instances          P          R      mAP50   \n",
      "                   all         26         44    0.00281      0.257    0.00622    0.00308\n",
      "\n",
      "      Epoch    GPU_mem   box_loss   obj_loss   cls_loss  Instances       Size\n",
      "      10/99      6.66G     0.0985    0.03223    0.04618         29        640: 1\n",
      "                 Class     Images  Instances          P          R      mAP50   \n",
      "                   all         26         44    0.00306      0.329    0.00682    0.00368\n",
      "\n",
      "      Epoch    GPU_mem   box_loss   obj_loss   cls_loss  Instances       Size\n",
      "      11/99      6.66G    0.09742    0.02802     0.0527         23        640: 1\n",
      "                 Class     Images  Instances          P          R      mAP50   \n",
      "                   all         26         44    0.00295      0.317    0.00668    0.00257\n",
      "\n",
      "      Epoch    GPU_mem   box_loss   obj_loss   cls_loss  Instances       Size\n",
      "      12/99      6.66G    0.09444    0.03439    0.04673         32        640: 1\n",
      "                 Class     Images  Instances          P          R      mAP50   \n",
      "                   all         26         44    0.00356      0.393    0.00793    0.00219\n",
      "\n",
      "      Epoch    GPU_mem   box_loss   obj_loss   cls_loss  Instances       Size\n",
      "      13/99      6.66G    0.08536    0.03196    0.04883         24        640: 1\n",
      "                 Class     Images  Instances          P          R      mAP50   \n",
      "                   all         26         44    0.00365      0.443    0.00916    0.00219\n",
      "\n",
      "      Epoch    GPU_mem   box_loss   obj_loss   cls_loss  Instances       Size\n",
      "      14/99      6.66G    0.08441    0.03341    0.04849         26        640: 1\n",
      "                 Class     Images  Instances          P          R      mAP50   \n",
      "                   all         26         44    0.00455      0.618    0.00978    0.00293\n",
      "\n",
      "      Epoch    GPU_mem   box_loss   obj_loss   cls_loss  Instances       Size\n",
      "      15/99      6.66G    0.08166    0.03774    0.04438         31        640: 1\n",
      "                 Class     Images  Instances          P          R      mAP50   \n",
      "                   all         26         44    0.00502      0.712     0.0117    0.00358\n",
      "\n",
      "      Epoch    GPU_mem   box_loss   obj_loss   cls_loss  Instances       Size\n",
      "      16/99      6.66G    0.08381    0.03398    0.04792         31        640: 1\n",
      "                 Class     Images  Instances          P          R      mAP50   \n",
      "                   all         26         44    0.00457      0.673     0.0172     0.0047\n",
      "\n",
      "      Epoch    GPU_mem   box_loss   obj_loss   cls_loss  Instances       Size\n",
      "      17/99      6.66G    0.06996    0.03255    0.04562         26        640: 1\n",
      "                 Class     Images  Instances          P          R      mAP50   \n",
      "                   all         26         44    0.00457      0.673     0.0172     0.0047\n",
      "\n",
      "      Epoch    GPU_mem   box_loss   obj_loss   cls_loss  Instances       Size\n",
      "      18/99      6.67G    0.07718    0.03551    0.04376         29        640: 1\n",
      "                 Class     Images  Instances          P          R      mAP50   \n",
      "                   all         26         44    0.00618      0.882     0.0322    0.00816\n",
      "\n",
      "      Epoch    GPU_mem   box_loss   obj_loss   cls_loss  Instances       Size\n",
      "      19/99      6.67G     0.0799    0.03202     0.0458         28        640: 1\n",
      "                 Class     Images  Instances          P          R      mAP50   \n",
      "                   all         26         44    0.00618      0.882     0.0322    0.00816\n",
      "\n",
      "      Epoch    GPU_mem   box_loss   obj_loss   cls_loss  Instances       Size\n",
      "      20/99      6.67G    0.08288     0.0324    0.04706         28        640: 1\n",
      "                 Class     Images  Instances          P          R      mAP50   \n",
      "                   all         26         44    0.00599      0.889     0.0539     0.0134\n",
      "\n",
      "      Epoch    GPU_mem   box_loss   obj_loss   cls_loss  Instances       Size\n",
      "      21/99      6.67G     0.0732    0.03575    0.04554         31        640: 1\n",
      "                 Class     Images  Instances          P          R      mAP50   \n",
      "                   all         26         44    0.00599      0.889     0.0539     0.0134\n",
      "\n",
      "      Epoch    GPU_mem   box_loss   obj_loss   cls_loss  Instances       Size\n",
      "      22/99      6.67G    0.07486    0.03618    0.04476         31        640: 1\n",
      "                 Class     Images  Instances          P          R      mAP50   \n",
      "                   all         26         44    0.00659       0.91     0.0755     0.0206\n",
      "\n",
      "      Epoch    GPU_mem   box_loss   obj_loss   cls_loss  Instances       Size\n",
      "      23/99      6.67G    0.06293     0.0325    0.04355         26        640: 1\n",
      "                 Class     Images  Instances          P          R      mAP50   \n",
      "                   all         26         44    0.00659       0.91     0.0755     0.0206\n",
      "\n",
      "      Epoch    GPU_mem   box_loss   obj_loss   cls_loss  Instances       Size\n",
      "      24/99      6.67G    0.06926    0.03113    0.04409         24        640: 1\n",
      "                 Class     Images  Instances          P          R      mAP50   \n",
      "                   all         26         44    0.00655      0.943      0.119     0.0296\n",
      "\n",
      "      Epoch    GPU_mem   box_loss   obj_loss   cls_loss  Instances       Size\n",
      "      25/99      6.67G    0.06916    0.02915    0.04629         21        640: 1\n",
      "                 Class     Images  Instances          P          R      mAP50   \n",
      "                   all         26         44    0.00655      0.943      0.119     0.0296\n",
      "\n",
      "      Epoch    GPU_mem   box_loss   obj_loss   cls_loss  Instances       Size\n",
      "      26/99      6.67G    0.06872    0.03963    0.04268         37        640: 1\n",
      "                 Class     Images  Instances          P          R      mAP50   \n",
      "                   all         26         44    0.00659      0.971      0.133     0.0412\n",
      "\n",
      "      Epoch    GPU_mem   box_loss   obj_loss   cls_loss  Instances       Size\n",
      "      27/99      6.67G    0.05584    0.02555     0.0432         18        640: 1\n",
      "                 Class     Images  Instances          P          R      mAP50   \n",
      "                   all         26         44    0.00659      0.971      0.133     0.0412\n",
      "\n",
      "      Epoch    GPU_mem   box_loss   obj_loss   cls_loss  Instances       Size\n",
      "      28/99      6.67G    0.07608     0.0253    0.04784         22        640: 1\n",
      "                 Class     Images  Instances          P          R      mAP50   \n",
      "                   all         26         44    0.00629      0.971      0.176     0.0558\n",
      "\n",
      "      Epoch    GPU_mem   box_loss   obj_loss   cls_loss  Instances       Size\n",
      "      29/99      6.67G    0.06973     0.0287    0.04193         25        640: 1\n",
      "                 Class     Images  Instances          P          R      mAP50   \n",
      "                   all         26         44    0.00629      0.971      0.176     0.0558\n",
      "\n",
      "      Epoch    GPU_mem   box_loss   obj_loss   cls_loss  Instances       Size\n",
      "      30/99      6.67G    0.07339    0.02663     0.0486         22        640: 1\n",
      "                 Class     Images  Instances          P          R      mAP50   \n",
      "                   all         26         44    0.00621      0.971      0.201     0.0515\n",
      "\n",
      "      Epoch    GPU_mem   box_loss   obj_loss   cls_loss  Instances       Size\n",
      "      31/99      6.67G    0.05978    0.02286    0.03885         16        640: 1\n",
      "                 Class     Images  Instances          P          R      mAP50   \n",
      "                   all         26         44    0.00621      0.971      0.201     0.0515\n",
      "\n",
      "      Epoch    GPU_mem   box_loss   obj_loss   cls_loss  Instances       Size\n",
      "      32/99      6.67G    0.06518    0.02837    0.04157         25        640: 1\n",
      "                 Class     Images  Instances          P          R      mAP50   \n",
      "                   all         26         44    0.00641          1      0.234     0.0704\n",
      "\n",
      "      Epoch    GPU_mem   box_loss   obj_loss   cls_loss  Instances       Size\n",
      "      33/99      6.67G    0.06651    0.02742    0.04251         24        640: 1\n",
      "                 Class     Images  Instances          P          R      mAP50   \n",
      "                   all         26         44    0.00641          1      0.234     0.0704\n"
     ]
    },
    {
     "name": "stdout",
     "output_type": "stream",
     "text": [
      "\n",
      "      Epoch    GPU_mem   box_loss   obj_loss   cls_loss  Instances       Size\n",
      "      34/99      6.67G    0.06428    0.03699    0.03884         34        640: 1\n",
      "                 Class     Images  Instances          P          R      mAP50   \n",
      "                   all         26         44      0.018      0.943      0.205     0.0796\n",
      "\n",
      "      Epoch    GPU_mem   box_loss   obj_loss   cls_loss  Instances       Size\n",
      "      35/99      6.67G    0.06091    0.02789    0.04253         24        640: 1\n",
      "                 Class     Images  Instances          P          R      mAP50   \n",
      "                   all         26         44      0.018      0.943      0.205     0.0796\n",
      "\n",
      "      Epoch    GPU_mem   box_loss   obj_loss   cls_loss  Instances       Size\n",
      "      36/99      6.67G     0.0533    0.02501    0.04019         20        640: 1\n",
      "                 Class     Images  Instances          P          R      mAP50   \n",
      "                   all         26         44      0.122      0.667      0.229     0.0649\n",
      "\n",
      "      Epoch    GPU_mem   box_loss   obj_loss   cls_loss  Instances       Size\n",
      "      37/99      6.67G    0.06542    0.03269    0.03885         32        640: 1\n",
      "                 Class     Images  Instances          P          R      mAP50   \n",
      "                   all         26         44      0.122      0.667      0.229     0.0649\n",
      "\n",
      "      Epoch    GPU_mem   box_loss   obj_loss   cls_loss  Instances       Size\n",
      "      38/99      6.67G    0.06598     0.0328    0.03585         32        640: 1\n",
      "                 Class     Images  Instances          P          R      mAP50   \n",
      "                   all         26         44      0.234      0.322      0.282      0.106\n",
      "\n",
      "      Epoch    GPU_mem   box_loss   obj_loss   cls_loss  Instances       Size\n",
      "      39/99      6.67G    0.06034    0.02948    0.03809         27        640: 1\n",
      "                 Class     Images  Instances          P          R      mAP50   \n",
      "                   all         26         44      0.234      0.322      0.282      0.106\n",
      "\n",
      "      Epoch    GPU_mem   box_loss   obj_loss   cls_loss  Instances       Size\n",
      "      40/99      6.67G     0.0535    0.02588    0.03939         23        640: 1\n",
      "                 Class     Images  Instances          P          R      mAP50   \n",
      "                   all         26         44      0.306      0.258      0.276     0.0809\n",
      "\n",
      "      Epoch    GPU_mem   box_loss   obj_loss   cls_loss  Instances       Size\n",
      "      41/99      6.67G    0.06908    0.03482    0.03724         37        640: 1\n",
      "                 Class     Images  Instances          P          R      mAP50   \n",
      "                   all         26         44      0.306      0.258      0.276     0.0809\n",
      "\n",
      "      Epoch    GPU_mem   box_loss   obj_loss   cls_loss  Instances       Size\n",
      "      42/99      6.67G    0.05765    0.02593    0.04218         25        640: 1\n",
      "                 Class     Images  Instances          P          R      mAP50   \n",
      "                   all         26         44      0.261      0.359      0.272      0.107\n",
      "\n",
      "      Epoch    GPU_mem   box_loss   obj_loss   cls_loss  Instances       Size\n",
      "      43/99      6.67G    0.06206    0.02504    0.03954         25        640: 1\n",
      "                 Class     Images  Instances          P          R      mAP50   \n",
      "                   all         26         44      0.261      0.359      0.272      0.107\n",
      "\n",
      "      Epoch    GPU_mem   box_loss   obj_loss   cls_loss  Instances       Size\n",
      "      44/99      6.67G    0.06145    0.02249    0.03905         21        640: 1\n",
      "                 Class     Images  Instances          P          R      mAP50   \n",
      "                   all         26         44      0.176      0.377      0.253     0.0836\n",
      "\n",
      "      Epoch    GPU_mem   box_loss   obj_loss   cls_loss  Instances       Size\n",
      "      45/99      6.67G    0.06215    0.02618    0.04148         25        640: 1\n",
      "                 Class     Images  Instances          P          R      mAP50   \n",
      "                   all         26         44      0.176      0.377      0.253     0.0836\n",
      "\n",
      "      Epoch    GPU_mem   box_loss   obj_loss   cls_loss  Instances       Size\n",
      "      46/99      6.67G    0.06251    0.03573    0.03492         35        640: 1\n",
      "                 Class     Images  Instances          P          R      mAP50   \n",
      "                   all         26         44      0.444      0.403      0.347      0.146\n",
      "\n",
      "      Epoch    GPU_mem   box_loss   obj_loss   cls_loss  Instances       Size\n",
      "      47/99      6.67G    0.06472    0.03185    0.03686         33        640: 1\n",
      "                 Class     Images  Instances          P          R      mAP50   \n",
      "                   all         26         44      0.444      0.403      0.347      0.146\n",
      "\n",
      "      Epoch    GPU_mem   box_loss   obj_loss   cls_loss  Instances       Size\n",
      "      48/99      6.67G    0.05422      0.024    0.04001         21        640: 1\n",
      "                 Class     Images  Instances          P          R      mAP50   \n",
      "                   all         26         44      0.493       0.29      0.309      0.105\n",
      "\n",
      "      Epoch    GPU_mem   box_loss   obj_loss   cls_loss  Instances       Size\n",
      "      49/99      6.67G    0.06485    0.02707    0.04037         27        640: 1\n",
      "                 Class     Images  Instances          P          R      mAP50   \n",
      "                   all         26         44      0.493       0.29      0.309      0.105\n",
      "\n",
      "      Epoch    GPU_mem   box_loss   obj_loss   cls_loss  Instances       Size\n",
      "      50/99      6.67G    0.05671    0.02866    0.03423         28        640: 1\n",
      "                 Class     Images  Instances          P          R      mAP50   \n",
      "                   all         26         44      0.177      0.554      0.379      0.129\n",
      "\n",
      "      Epoch    GPU_mem   box_loss   obj_loss   cls_loss  Instances       Size\n",
      "      51/99      6.67G    0.05618    0.02007    0.03651         20        640: 1\n",
      "                 Class     Images  Instances          P          R      mAP50   \n",
      "                   all         26         44      0.177      0.554      0.379      0.129\n",
      "\n",
      "      Epoch    GPU_mem   box_loss   obj_loss   cls_loss  Instances       Size\n",
      "      52/99      6.67G    0.05503    0.02526    0.03966         26        640: 1\n",
      "                 Class     Images  Instances          P          R      mAP50   \n",
      "                   all         26         44      0.177      0.554      0.379      0.129\n",
      "\n",
      "      Epoch    GPU_mem   box_loss   obj_loss   cls_loss  Instances       Size\n",
      "      53/99      6.67G     0.0537    0.02015    0.03617         19        640: 1\n",
      "                 Class     Images  Instances          P          R      mAP50   \n",
      "                   all         26         44      0.203      0.619       0.43      0.176\n",
      "\n",
      "      Epoch    GPU_mem   box_loss   obj_loss   cls_loss  Instances       Size\n",
      "      54/99      6.67G    0.05407    0.03881    0.03075         38        640: 1\n",
      "                 Class     Images  Instances          P          R      mAP50   \n",
      "                   all         26         44      0.203      0.619       0.43      0.176\n",
      "\n",
      "      Epoch    GPU_mem   box_loss   obj_loss   cls_loss  Instances       Size\n",
      "      55/99      6.67G    0.04722    0.02497    0.03692         27        640: 1\n",
      "                 Class     Images  Instances          P          R      mAP50   \n",
      "                   all         26         44      0.203      0.619       0.43      0.176\n",
      "\n",
      "      Epoch    GPU_mem   box_loss   obj_loss   cls_loss  Instances       Size\n",
      "      56/99      6.67G    0.05343    0.03615    0.03649         37        640: 1\n",
      "                 Class     Images  Instances          P          R      mAP50   \n",
      "                   all         26         44        0.2      0.414      0.387      0.115\n",
      "\n",
      "      Epoch    GPU_mem   box_loss   obj_loss   cls_loss  Instances       Size\n",
      "      57/99      6.67G    0.05886    0.03034    0.03597         33        640: 1\n",
      "                 Class     Images  Instances          P          R      mAP50   \n",
      "                   all         26         44        0.2      0.414      0.387      0.115\n",
      "\n",
      "      Epoch    GPU_mem   box_loss   obj_loss   cls_loss  Instances       Size\n",
      "      58/99      6.67G    0.06034    0.02323    0.03624         25        640: 1\n",
      "                 Class     Images  Instances          P          R      mAP50   \n",
      "                   all         26         44        0.2      0.414      0.387      0.115\n"
     ]
    },
    {
     "name": "stdout",
     "output_type": "stream",
     "text": [
      "\n",
      "      Epoch    GPU_mem   box_loss   obj_loss   cls_loss  Instances       Size\n",
      "      59/99      6.67G    0.05781    0.02134    0.03589         22        640: 1\n",
      "                 Class     Images  Instances          P          R      mAP50   \n",
      "                   all         26         44      0.299       0.41      0.445      0.198\n",
      "\n",
      "      Epoch    GPU_mem   box_loss   obj_loss   cls_loss  Instances       Size\n",
      "      60/99      6.67G    0.05445    0.02295    0.03775         27        640: 1\n",
      "                 Class     Images  Instances          P          R      mAP50   \n",
      "                   all         26         44      0.299       0.41      0.445      0.198\n",
      "\n",
      "      Epoch    GPU_mem   box_loss   obj_loss   cls_loss  Instances       Size\n",
      "      61/99      6.67G    0.05674    0.02365    0.03641         25        640: 1\n",
      "                 Class     Images  Instances          P          R      mAP50   \n",
      "                   all         26         44      0.299       0.41      0.445      0.198\n",
      "\n",
      "      Epoch    GPU_mem   box_loss   obj_loss   cls_loss  Instances       Size\n",
      "      62/99      6.67G      0.058    0.01559    0.03662         13        640: 1\n",
      "                 Class     Images  Instances          P          R      mAP50   \n",
      "                   all         26         44       0.34      0.407      0.472      0.205\n",
      "\n",
      "      Epoch    GPU_mem   box_loss   obj_loss   cls_loss  Instances       Size\n",
      "      63/99      6.67G    0.06026    0.03636     0.0359         43        640: 1\n",
      "                 Class     Images  Instances          P          R      mAP50   \n",
      "                   all         26         44       0.34      0.407      0.472      0.205\n",
      "\n",
      "      Epoch    GPU_mem   box_loss   obj_loss   cls_loss  Instances       Size\n",
      "      64/99      6.67G    0.05326    0.03074    0.03265         35        640: 1\n",
      "                 Class     Images  Instances          P          R      mAP50   \n",
      "                   all         26         44       0.34      0.407      0.472      0.205\n",
      "\n",
      "      Epoch    GPU_mem   box_loss   obj_loss   cls_loss  Instances       Size\n",
      "      65/99      6.67G     0.0579    0.02529    0.04107         29        640: 1\n",
      "                 Class     Images  Instances          P          R      mAP50   \n",
      "                   all         26         44      0.258       0.52      0.445        0.2\n",
      "\n",
      "      Epoch    GPU_mem   box_loss   obj_loss   cls_loss  Instances       Size\n",
      "      66/99      6.67G     0.0506    0.02585    0.03079         29        640: 1\n",
      "                 Class     Images  Instances          P          R      mAP50   \n",
      "                   all         26         44      0.258       0.52      0.445        0.2\n",
      "\n",
      "      Epoch    GPU_mem   box_loss   obj_loss   cls_loss  Instances       Size\n",
      "      67/99      6.67G    0.04534    0.02518    0.03356         27        640: 1\n",
      "                 Class     Images  Instances          P          R      mAP50   \n",
      "                   all         26         44      0.258       0.52      0.445        0.2\n",
      "\n",
      "      Epoch    GPU_mem   box_loss   obj_loss   cls_loss  Instances       Size\n",
      "      68/99      6.67G    0.05229    0.02108    0.03767         22        640: 1\n",
      "                 Class     Images  Instances          P          R      mAP50   \n",
      "                   all         26         44      0.366      0.552      0.502      0.225\n",
      "\n",
      "      Epoch    GPU_mem   box_loss   obj_loss   cls_loss  Instances       Size\n",
      "      69/99      6.67G     0.0524     0.0264    0.02968         26        640: 1\n",
      "                 Class     Images  Instances          P          R      mAP50   \n",
      "                   all         26         44      0.366      0.552      0.502      0.225\n",
      "\n",
      "      Epoch    GPU_mem   box_loss   obj_loss   cls_loss  Instances       Size\n",
      "      70/99      6.67G    0.05267    0.02513    0.03428         32        640: 1\n",
      "                 Class     Images  Instances          P          R      mAP50   \n",
      "                   all         26         44      0.366      0.552      0.502      0.225\n",
      "\n",
      "      Epoch    GPU_mem   box_loss   obj_loss   cls_loss  Instances       Size\n",
      "      71/99      6.67G    0.05557    0.02148    0.03781         24        640: 1\n",
      "                 Class     Images  Instances          P          R      mAP50   \n",
      "                   all         26         44      0.262      0.572      0.494      0.231\n",
      "\n",
      "      Epoch    GPU_mem   box_loss   obj_loss   cls_loss  Instances       Size\n",
      "      72/99      6.67G    0.04045    0.01539    0.03407         15        640: 1\n",
      "                 Class     Images  Instances          P          R      mAP50   \n",
      "                   all         26         44      0.262      0.572      0.494      0.231\n",
      "\n",
      "      Epoch    GPU_mem   box_loss   obj_loss   cls_loss  Instances       Size\n",
      "      73/99      6.67G    0.05085    0.03163    0.03468         36        640: 1\n",
      "                 Class     Images  Instances          P          R      mAP50   \n",
      "                   all         26         44      0.262      0.572      0.494      0.231\n",
      "\n",
      "      Epoch    GPU_mem   box_loss   obj_loss   cls_loss  Instances       Size\n",
      "      74/99      6.67G     0.0498    0.02753    0.03405         31        640: 1\n",
      "                 Class     Images  Instances          P          R      mAP50   \n",
      "                   all         26         44      0.365      0.619      0.548      0.272\n",
      "\n",
      "      Epoch    GPU_mem   box_loss   obj_loss   cls_loss  Instances       Size\n",
      "      75/99      6.67G    0.05263    0.02156      0.035         22        640: 1\n",
      "                 Class     Images  Instances          P          R      mAP50   \n",
      "                   all         26         44      0.365      0.619      0.548      0.272\n",
      "\n",
      "      Epoch    GPU_mem   box_loss   obj_loss   cls_loss  Instances       Size\n",
      "      76/99      6.67G    0.05067    0.02279    0.03467         27        640: 1\n",
      "                 Class     Images  Instances          P          R      mAP50   \n",
      "                   all         26         44      0.365      0.619      0.548      0.272\n",
      "\n",
      "      Epoch    GPU_mem   box_loss   obj_loss   cls_loss  Instances       Size\n",
      "      77/99      6.67G    0.04519    0.01863    0.03173         20        640: 1\n",
      "                 Class     Images  Instances          P          R      mAP50   \n",
      "                   all         26         44      0.279      0.576      0.531      0.242\n",
      "\n",
      "      Epoch    GPU_mem   box_loss   obj_loss   cls_loss  Instances       Size\n",
      "      78/99      6.67G     0.0458    0.03158    0.03624         39        640: 1\n",
      "                 Class     Images  Instances          P          R      mAP50   \n",
      "                   all         26         44      0.279      0.576      0.531      0.242\n",
      "\n",
      "      Epoch    GPU_mem   box_loss   obj_loss   cls_loss  Instances       Size\n",
      "      79/99      6.67G    0.04646    0.01885    0.03622         22        640: 1\n",
      "                 Class     Images  Instances          P          R      mAP50   \n",
      "                   all         26         44      0.279      0.576      0.531      0.242\n",
      "\n",
      "      Epoch    GPU_mem   box_loss   obj_loss   cls_loss  Instances       Size\n",
      "      80/99      6.67G    0.04687     0.0307    0.03106         33        640: 1\n",
      "                 Class     Images  Instances          P          R      mAP50   \n",
      "                   all         26         44      0.371      0.642      0.565      0.288\n",
      "\n",
      "      Epoch    GPU_mem   box_loss   obj_loss   cls_loss  Instances       Size\n",
      "      81/99      6.67G    0.04354    0.02858    0.02776         29        640: 1\n",
      "                 Class     Images  Instances          P          R      mAP50   \n",
      "                   all         26         44      0.371      0.642      0.565      0.288\n",
      "\n",
      "      Epoch    GPU_mem   box_loss   obj_loss   cls_loss  Instances       Size\n",
      "      82/99      6.67G    0.04806    0.02671    0.03306         33        640: 1\n",
      "                 Class     Images  Instances          P          R      mAP50   \n",
      "                   all         26         44      0.371      0.642      0.565      0.288\n",
      "\n",
      "      Epoch    GPU_mem   box_loss   obj_loss   cls_loss  Instances       Size\n",
      "      83/99      6.67G    0.04717    0.02459      0.035         29        640: 1\n",
      "                 Class     Images  Instances          P          R      mAP50   \n",
      "                   all         26         44      0.384      0.761      0.565      0.306\n"
     ]
    },
    {
     "name": "stdout",
     "output_type": "stream",
     "text": [
      "\n",
      "      Epoch    GPU_mem   box_loss   obj_loss   cls_loss  Instances       Size\n",
      "      84/99      6.67G    0.04903    0.02706    0.03165         34        640: 1\n",
      "                 Class     Images  Instances          P          R      mAP50   \n",
      "                   all         26         44      0.384      0.761      0.565      0.306\n",
      "\n",
      "      Epoch    GPU_mem   box_loss   obj_loss   cls_loss  Instances       Size\n",
      "      85/99      6.67G    0.04915    0.02525    0.03126         29        640: 1\n",
      "                 Class     Images  Instances          P          R      mAP50   \n",
      "                   all         26         44      0.384      0.761      0.565      0.306\n",
      "\n",
      "      Epoch    GPU_mem   box_loss   obj_loss   cls_loss  Instances       Size\n",
      "      86/99      6.67G    0.04013    0.02346    0.03151         26        640: 1\n",
      "                 Class     Images  Instances          P          R      mAP50   \n",
      "                   all         26         44      0.384      0.761      0.565      0.306\n",
      "\n",
      "      Epoch    GPU_mem   box_loss   obj_loss   cls_loss  Instances       Size\n",
      "      87/99      6.67G    0.04764    0.01975    0.03823         22        640: 1\n",
      "                 Class     Images  Instances          P          R      mAP50   \n",
      "                   all         26         44      0.423      0.683      0.615      0.318\n",
      "\n",
      "      Epoch    GPU_mem   box_loss   obj_loss   cls_loss  Instances       Size\n",
      "      88/99      6.67G    0.03862    0.02698     0.0311         33        640: 1\n",
      "                 Class     Images  Instances          P          R      mAP50   \n",
      "                   all         26         44      0.423      0.683      0.615      0.318\n",
      "\n",
      "      Epoch    GPU_mem   box_loss   obj_loss   cls_loss  Instances       Size\n",
      "      89/99      6.67G    0.04404    0.01897    0.03168         21        640: 1\n",
      "                 Class     Images  Instances          P          R      mAP50   \n",
      "                   all         26         44      0.423      0.683      0.615      0.318\n",
      "\n",
      "      Epoch    GPU_mem   box_loss   obj_loss   cls_loss  Instances       Size\n",
      "      90/99      6.67G    0.04017    0.01822    0.03483         22        640: 1\n",
      "                 Class     Images  Instances          P          R      mAP50   \n",
      "                   all         26         44      0.423      0.683      0.615      0.318\n",
      "\n",
      "      Epoch    GPU_mem   box_loss   obj_loss   cls_loss  Instances       Size\n",
      "      91/99      6.67G    0.03525    0.01722    0.03819         20        640: 1\n",
      "                 Class     Images  Instances          P          R      mAP50   \n",
      "                   all         26         44       0.44      0.726      0.626      0.395\n",
      "\n",
      "      Epoch    GPU_mem   box_loss   obj_loss   cls_loss  Instances       Size\n",
      "      92/99      6.67G    0.04718    0.01886     0.0367         23        640: 1\n",
      "                 Class     Images  Instances          P          R      mAP50   \n",
      "                   all         26         44       0.44      0.726      0.626      0.395\n",
      "\n",
      "      Epoch    GPU_mem   box_loss   obj_loss   cls_loss  Instances       Size\n",
      "      93/99      6.67G    0.04475    0.02342    0.03139         25        640: 1\n",
      "                 Class     Images  Instances          P          R      mAP50   \n",
      "                   all         26         44       0.44      0.726      0.626      0.395\n",
      "\n",
      "      Epoch    GPU_mem   box_loss   obj_loss   cls_loss  Instances       Size\n",
      "      94/99      6.67G    0.04142    0.02958    0.03086         35        640: 1\n",
      "                 Class     Images  Instances          P          R      mAP50   \n",
      "                   all         26         44       0.44      0.726      0.626      0.395\n",
      "\n",
      "      Epoch    GPU_mem   box_loss   obj_loss   cls_loss  Instances       Size\n",
      "      95/99      6.67G    0.05086    0.01903    0.03605         24        640: 1\n",
      "                 Class     Images  Instances          P          R      mAP50   \n",
      "                   all         26         44      0.475      0.708      0.639      0.365\n",
      "\n",
      "      Epoch    GPU_mem   box_loss   obj_loss   cls_loss  Instances       Size\n",
      "      96/99      6.67G    0.04304    0.01628    0.02932         19        640: 1\n",
      "                 Class     Images  Instances          P          R      mAP50   \n",
      "                   all         26         44      0.475      0.708      0.639      0.365\n",
      "\n",
      "      Epoch    GPU_mem   box_loss   obj_loss   cls_loss  Instances       Size\n",
      "      97/99      6.67G    0.04535    0.02743    0.03249         30        640: 1\n",
      "                 Class     Images  Instances          P          R      mAP50   \n",
      "                   all         26         44      0.475      0.708      0.639      0.365\n",
      "\n",
      "      Epoch    GPU_mem   box_loss   obj_loss   cls_loss  Instances       Size\n",
      "      98/99      6.67G    0.04669    0.03078    0.03514         37        640: 1\n",
      "                 Class     Images  Instances          P          R      mAP50   \n",
      "                   all         26         44      0.475      0.708      0.639      0.365\n",
      "\n",
      "      Epoch    GPU_mem   box_loss   obj_loss   cls_loss  Instances       Size\n",
      "      99/99      6.67G    0.03922    0.02879    0.02954         36        640: 1\n",
      "                 Class     Images  Instances          P          R      mAP50   \n",
      "                   all         26         44      0.482      0.708      0.642      0.349\n",
      "\n",
      "100 epochs completed in 0.047 hours.\n",
      "Optimizer stripped from runs/train/exp/weights/last.pt, 42.3MB\n",
      "Optimizer stripped from runs/train/exp/weights/best.pt, 42.3MB\n",
      "\n",
      "Validating runs/train/exp/weights/best.pt...\n",
      "Fusing layers... \n",
      "Model summary: 212 layers, 20869098 parameters, 0 gradients\n",
      "                 Class     Images  Instances          P          R      mAP50   \n",
      "                   all         26         44      0.441      0.726      0.633      0.398\n",
      "     Modcol S Soft Cap         26         11      0.295      0.909      0.651      0.395\n",
      "           Soxital Tab         26         16      0.325      0.875      0.639      0.379\n",
      "                    nr         26          4      0.465       0.75      0.648      0.468\n",
      "               solufen         26          7      0.345      0.429      0.468      0.319\n",
      "               tak-sen         26          6      0.773      0.667       0.76      0.427\n",
      "Results saved to \u001b[1mruns/train/exp\u001b[0m\n"
     ]
    }
   ],
   "source": [
    "!python3 train.py --img 640 --epochs 100 --data ./data/data_pill.yaml --weights yolov5m.pt"
   ]
  },
  {
   "cell_type": "code",
   "execution_count": 97,
   "metadata": {
    "colab": {
     "base_uri": "https://localhost:8080/"
    },
    "executionInfo": {
     "elapsed": 10264,
     "status": "ok",
     "timestamp": 1686726973044,
     "user": {
      "displayName": "알약",
      "userId": "09675188480547128646"
     },
     "user_tz": -540
    },
    "id": "gTnZG5gXpkYe",
    "outputId": "d9af906f-9882-4ac4-893d-a0d56fd1055c"
   },
   "outputs": [
    {
     "name": "stdout",
     "output_type": "stream",
     "text": [
      "\u001b[34m\u001b[1mdetect: \u001b[0mweights=['./runs/train/yolov5s-100/weights/best.pt'], source=./detect테스트사진/MODCD/MODCD1.jpeg, data=data/coco128.yaml, imgsz=[640, 640], conf_thres=0.6, iou_thres=0.45, max_det=1000, device=, view_img=False, save_txt=False, save_conf=False, save_crop=False, nosave=False, classes=None, agnostic_nms=False, augment=False, visualize=False, update=False, project=runs/detect, name=exp, exist_ok=False, line_thickness=3, hide_labels=False, hide_conf=False, half=False, dnn=False, vid_stride=1\n",
      "\u001b[31m\u001b[1mrequirements:\u001b[0m /home/jovyan/Desktop/park/requirements.txt not found, check failed.\n",
      "YOLOv5 🚀 2023-5-6 Python-3.8.10 torch-2.0.1+cu117 CUDA:0 (NVIDIA A100-SXM4-40GB, 40396MiB)\n",
      "\n",
      "Fusing layers... \n",
      "Model summary: 157 layers, 7023610 parameters, 0 gradients\n",
      "Detected: Soxital Tab 0.96\n",
      "detecting_label Soxital Tab 0.96\n",
      "image 1/1 /home/jovyan/Desktop/park/yolov5/detect테스트사진/MODCD/MODCD1.jpeg: 640x640 1 Soxital Tab, 4.2ms\n",
      "Speed: 0.3ms pre-process, 4.2ms inference, 1.3ms NMS per image at shape (1, 3, 640, 640)\n",
      "Results saved to \u001b[1mruns/detect/exp12\u001b[0m\n"
     ]
    }
   ],
   "source": [
    "!python3 detect.py --weights ./runs/train/yolov5s-100/weights/best.pt --img 640 --conf 0.6 --source \"./detect테스트사진/MODCD/MODCD1.jpeg\""
   ]
  },
  {
   "cell_type": "code",
   "execution_count": 101,
   "metadata": {},
   "outputs": [
    {
     "name": "stdout",
     "output_type": "stream",
     "text": [
      "\u001b[34m\u001b[1mdetect: \u001b[0mweights=['./runs/train/yolov5m-100/weights/best.pt'], source=./detect테스트사진/MODCD/MODCD1.jpeg, data=data/coco128.yaml, imgsz=[640, 640], conf_thres=0.6, iou_thres=0.45, max_det=1000, device=, view_img=False, save_txt=False, save_conf=False, save_crop=False, nosave=False, classes=None, agnostic_nms=False, augment=False, visualize=False, update=False, project=runs/detect, name=exp, exist_ok=False, line_thickness=3, hide_labels=False, hide_conf=False, half=False, dnn=False, vid_stride=1\n",
      "\u001b[31m\u001b[1mrequirements:\u001b[0m /home/jovyan/Desktop/park/requirements.txt not found, check failed.\n",
      "YOLOv5 🚀 2023-5-6 Python-3.8.10 torch-2.0.1+cu117 CUDA:0 (NVIDIA A100-SXM4-40GB, 40396MiB)\n",
      "\n",
      "Fusing layers... \n",
      "Model summary: 212 layers, 20869098 parameters, 0 gradients\n",
      "image 1/1 /home/jovyan/Desktop/park/yolov5/detect테스트사진/MODCD/MODCD1.jpeg: 640x640 (no detections), 5.5ms\n",
      "Speed: 0.3ms pre-process, 5.5ms inference, 0.7ms NMS per image at shape (1, 3, 640, 640)\n",
      "Results saved to \u001b[1mruns/detect/exp16\u001b[0m\n"
     ]
    }
   ],
   "source": [
    "!python3 detect.py --weights ./runs/train/yolov5m-100/weights/best.pt --img 640 --conf 0.6 --source \"./detect테스트사진/MODCD/MODCD1.jpeg\""
   ]
  },
  {
   "cell_type": "code",
   "execution_count": 102,
   "metadata": {},
   "outputs": [
    {
     "name": "stdout",
     "output_type": "stream",
     "text": [
      "\u001b[34m\u001b[1mdetect: \u001b[0mweights=['./runs/train/yolov5l-100/weights/best.pt'], source=./detect테스트사진/MODCD/MODCD1.jpeg, data=data/coco128.yaml, imgsz=[640, 640], conf_thres=0.6, iou_thres=0.45, max_det=1000, device=, view_img=False, save_txt=False, save_conf=False, save_crop=False, nosave=False, classes=None, agnostic_nms=False, augment=False, visualize=False, update=False, project=runs/detect, name=exp, exist_ok=False, line_thickness=3, hide_labels=False, hide_conf=False, half=False, dnn=False, vid_stride=1\n",
      "\u001b[31m\u001b[1mrequirements:\u001b[0m /home/jovyan/Desktop/park/requirements.txt not found, check failed.\n",
      "YOLOv5 🚀 2023-5-6 Python-3.8.10 torch-2.0.1+cu117 CUDA:0 (NVIDIA A100-SXM4-40GB, 40396MiB)\n",
      "\n",
      "Fusing layers... \n",
      "Model summary: 267 layers, 46129818 parameters, 0 gradients\n",
      "image 1/1 /home/jovyan/Desktop/park/yolov5/detect테스트사진/MODCD/MODCD1.jpeg: 640x640 (no detections), 8.3ms\n",
      "Speed: 0.3ms pre-process, 8.3ms inference, 0.3ms NMS per image at shape (1, 3, 640, 640)\n",
      "Results saved to \u001b[1mruns/detect/exp17\u001b[0m\n"
     ]
    }
   ],
   "source": [
    "!python3 detect.py --weights ./runs/train/yolov5l-100/weights/best.pt --img 640 --conf 0.6 --source \"./detect테스트사진/MODCD/MODCD1.jpeg\""
   ]
  },
  {
   "cell_type": "code",
   "execution_count": null,
   "metadata": {},
   "outputs": [],
   "source": []
  },
  {
   "cell_type": "code",
   "execution_count": null,
   "metadata": {
    "id": "oCveQaShwvwR"
   },
   "outputs": [],
   "source": [
    "!python3 detect.py --weights ./runs/train/yolov5m_100/weights/best.pt --img 640 --conf 0.6 --source \"./detect-테스트사진/NR/nr2.jpeg\""
   ]
  },
  {
   "cell_type": "code",
   "execution_count": null,
   "metadata": {
    "id": "36mfrKBOwzWt"
   },
   "outputs": [],
   "source": [
    "!python3 detect.py --weights ./runs/train/YOLOv5_L_100/weights/best.pt --img 640 --conf 0.6 --source \"./detect-테스트사진/STH/STH1.jpeg\""
   ]
  },
  {
   "cell_type": "markdown",
   "metadata": {
    "id": "VYi1Awv5xuKb"
   },
   "source": [
    "\n",
    "-------------------------------------------------------------------"
   ]
  },
  {
   "cell_type": "markdown",
   "metadata": {
    "id": "OKJLlaFP34om"
   },
   "source": [
    "# <strong>콩순님 - detecting시 사용하면 되는 코드\n",
    "저장된 모델 이름 exp9 10 12? 확인하고 이름 변경했습니다.\n",
    "yolov5m_100, yolov5m_150, yolov5m_200\n",
    "\n",
    "detect 코드 - detect 파일 기준으로 상대경로 설정해주기 모델 가중치, 넣고싶은 이미지 경로 등\n",
    "img 사이즈 조절하기, conf 특정 정확도 이상의 디텍트된 결과만 출력 0.3이면 0.3퍼 이상의 결과만 출력 그 이하는 미 출력\n",
    "source 이미지 경로 \"원하는 이미지 경로\" \"\" 적어주셔야 해요"
   ]
  },
  {
   "cell_type": "markdown",
   "metadata": {
    "id": "rLTpJpprvscO"
   },
   "source": [
    "# ** 중요! detect 한번 실행 후 꼭 아래 코드 실행시키기 그래야 오류 안남 **"
   ]
  },
  {
   "cell_type": "code",
   "execution_count": null,
   "metadata": {
    "id": "HJp8yC3rva8f"
   },
   "outputs": [],
   "source": [
    "# 꼭 detect 실행 후 해주세요\n",
    "t_image = \"./FxMoDmMacAExdRX.jpg\"\n",
    "import PIL.Image as pil\n",
    "\n",
    "img = pil.open(t_image)\n",
    "img.show()"
   ]
  },
  {
   "cell_type": "code",
   "execution_count": null,
   "metadata": {
    "id": "7gK4uc2CW1sI"
   },
   "outputs": [],
   "source": [
    "# modcd 1 ~ 5로 저장  뒤의 경로에서 숫자만 바꾸기 - 모델도 동일 100 -> 150 등\n",
    "!python3 detect.py --weights ./runs/train/yolov5m_100/weights/best.pt --img 640 --conf 0.3 --source \"./detect-테스트사진/MODCD/mod5.jpeg\""
   ]
  },
  {
   "cell_type": "code",
   "execution_count": null,
   "metadata": {
    "colab": {
     "base_uri": "https://localhost:8080/"
    },
    "executionInfo": {
     "elapsed": 4,
     "status": "ok",
     "timestamp": 1686718476483,
     "user": {
      "displayName": "알약",
      "userId": "09675188480547128646"
     },
     "user_tz": -540
    },
    "id": "oOG2iH2wQCH0",
    "outputId": "89996ce7-37c1-43bb-a93b-43df612acfad"
   },
   "outputs": [
    {
     "name": "stdout",
     "output_type": "stream",
     "text": [
      "/content/drive/MyDrive/yolov5\n"
     ]
    }
   ],
   "source": [
    "cd /content/drive/MyDrive/yolov5"
   ]
  },
  {
   "cell_type": "code",
   "execution_count": null,
   "metadata": {
    "id": "QQgSEePc73-k"
   },
   "outputs": [],
   "source": [
    "# nr 1 ~ 10로 저장  뒤의 경로에서 숫자만 바꾸기\n",
    "!python3 detect.py --weights ./runs/train/yolov5m_100/weights/best.pt --img 640 --conf 0.3 --source \"./detect-테스트사진/NR/nr2.jpeg\""
   ]
  },
  {
   "cell_type": "code",
   "execution_count": null,
   "metadata": {
    "id": "-yO-GYlU75dG"
   },
   "outputs": [],
   "source": [
    "# sth 1 ~ 10\n",
    "!python3 detect.py --weights ./runs/train/yolov5m_100/weights/best.pt --img 640 --conf 0.3 --source \"./detect-테스트사진/STH/sth10.jpeg\""
   ]
  },
  {
   "cell_type": "code",
   "execution_count": null,
   "metadata": {
    "id": "fCyyxXuU77bK"
   },
   "outputs": [],
   "source": [
    "# tak 1 ~ 5\n",
    "!python3 detect.py --weights ./runs/train/yolov5m_100/weights/best.pt --img 640 --conf 0.3 --source \"./detect-테스트사진/TAK-SEN/tak1.jpeg\""
   ]
  },
  {
   "cell_type": "code",
   "execution_count": null,
   "metadata": {
    "id": "rP4Njp99780M"
   },
   "outputs": [],
   "source": [
    "# solu 1 ~ 6\n",
    "!python3 detect.py --weights ./runs/train/yolov5m_100/weights/best.pt --img 640 --conf 0.3 --source \"./detect-테스트사진/solufen/solufen1.jpeg\""
   ]
  },
  {
   "cell_type": "markdown",
   "metadata": {
    "id": "nesZqoc04Q2f"
   },
   "source": [
    "# <strong>큰언니 - detecting시 사용하면 되는 코드\n",
    "YOLOv5_L_100, YOLOv5_L_150, YOLOv5_L_200\n",
    "\n",
    "detect 코드 - detect 파일 기준으로 상대경로 설정해주기 모델 가중치, 넣고싶은 이미지 경로 등\n",
    "img 사이즈 조절하기, conf 특정 정확도 이상의 디텍트된 결과만 출력 0.3이면 0.3퍼 이상의 결과만 출력 그 이하는 미 출력\n",
    "source 이미지 경로 \"원하는 이미지 경로\" \"\" 적어주셔야 해요\n"
   ]
  },
  {
   "cell_type": "markdown",
   "metadata": {
    "id": "724TSSjVvcq6"
   },
   "source": [
    "# ** 중요! detect 한번 실행 후 꼭 아래 코드 실행시키기 그래야 오류 안남 **"
   ]
  },
  {
   "cell_type": "code",
   "execution_count": null,
   "metadata": {
    "colab": {
     "base_uri": "https://localhost:8080/",
     "height": 317
    },
    "executionInfo": {
     "elapsed": 1248,
     "status": "ok",
     "timestamp": 1686725177086,
     "user": {
      "displayName": "알약",
      "userId": "09675188480547128646"
     },
     "user_tz": -540
    },
    "id": "FyHL1Sz-vb8z",
    "outputId": "ffae7944-b485-45c3-b419-747ad90ed390"
   },
   "outputs": [
    {
     "data": {
      "image/png": "[encoded data removed]",
      "text/plain": [
       "<PIL.JpegImagePlugin.JpegImageFile image mode=RGB size=168x300 at 0x7FF89651F5E0>"
      ]
     },
     "metadata": {},
     "output_type": "display_data"
    }
   ],
   "source": [
    "# 꼭 detect 실행 후 해주세요\n",
    "t_image = \"./Unknown.jpeg\"\n",
    "import PIL.Image as pil\n",
    "\n",
    "img = pil.open(t_image)\n",
    "img.show()"
   ]
  },
  {
   "cell_type": "code",
   "execution_count": null,
   "metadata": {
    "colab": {
     "base_uri": "https://localhost:8080/"
    },
    "executionInfo": {
     "elapsed": 1,
     "status": "ok",
     "timestamp": 1686725168830,
     "user": {
      "displayName": "알약",
      "userId": "09675188480547128646"
     },
     "user_tz": -540
    },
    "id": "zRLhDuJK2tpV",
    "outputId": "ff6802e9-e9d6-4516-cd70-04c2e9ae2ecc"
   },
   "outputs": [
    {
     "metadata": {
      "tags": null
     },
     "name": "stdout",
     "output_type": "stream",
     "text": [
      "\u001b[34m\u001b[1mdetect: \u001b[0mweights=['./runs/train/YOLOv5_L_100/weights/best.pt'], source=./detect-테스트사진/MODCD/MODCD1.jpeg, data=data/coco128.yaml, imgsz=[640, 640], conf_thres=0.3, iou_thres=0.45, max_det=1000, device=, view_img=False, save_txt=False, save_conf=False, save_crop=False, nosave=False, classes=None, agnostic_nms=False, augment=False, visualize=False, update=False, project=runs/detect, name=exp, exist_ok=False, line_thickness=3, hide_labels=False, hide_conf=False, half=False, dnn=False, vid_stride=1\n",
      "\u001b[31m\u001b[1mrequirements:\u001b[0m /content/drive/MyDrive/requirements.txt not found, check failed.\n",
      "YOLOv5 🚀 2023-5-7 Python-3.10.12 torch-2.0.1+cu118 CUDA:0 (Tesla T4, 15102MiB)\n",
      "\n",
      "Fusing layers... \n",
      "Model summary: 267 layers, 46129818 parameters, 0 gradients\n",
      "Detected: Modcol S Soft Cap 0.96\n",
      "detecting_label Modcol S Soft Cap 0.96\n",
      "image 1/1 /content/drive/MyDrive/yolov5/detect-테스트사진/MODCD/MODCD1.jpeg: 640x640 1 Modcol S Soft Cap, 49.3ms\n",
      "Speed: 0.7ms pre-process, 49.3ms inference, 33.0ms NMS per image at shape (1, 3, 640, 640)\n",
      "Results saved to \u001b[1mruns/detect/exp8\u001b[0m\n",
      "\n",
      "\n",
      "저기..\n",
      "\n",
      "\n",
      "\n",
      "\n",
      "\n",
      "\n",
      "\n",
      "\n",
      "\n",
      "\n",
      "\n",
      "\n",
      "혹시..\n",
      "\n",
      "\n",
      "\n",
      "\n",
      "\n",
      "\n",
      "\n",
      "\n",
      "\n",
      "\n",
      "\n",
      "\n",
      "\n",
      "\n",
      "너 ..\n",
      "\n",
      "\n",
      "\n",
      "\n",
      "\n",
      "\n",
      "\n",
      "\n",
      "\n",
      "\n",
      "\n",
      "\n",
      "\n",
      "\n",
      "T야....?\n"
     ]
    }
   ],
   "source": [
    "# modcd 1 ~ 5로 저장  뒤의 경로에서 숫자만 - 모델도 동일 100 -> 150 등\n",
    "!python3 detect.py --weights ./runs/train/YOLOv5_L_100/weights/best.pt --img 640 --conf 0.3 --source \"./detect-테스트사진/MODCD/MODCD1.jpeg\""
   ]
  },
  {
   "cell_type": "code",
   "execution_count": null,
   "metadata": {
    "id": "K8Hc1Zn38Ats"
   },
   "outputs": [],
   "source": [
    "# nr 1 ~ 10로 저장  뒤의 경로에서 숫자만 바꾸기\n",
    "!python3 detect.py --weights ./runs/train/YOLOv5_L_100/weights/best.pt --img 640 --conf 0.3 --source \"./detect-테스트사진/STH/STH1.jpeg\""
   ]
  },
  {
   "cell_type": "code",
   "execution_count": null,
   "metadata": {
    "id": "TUqbFHNU8BxI"
   },
   "outputs": [],
   "source": [
    "# sth 1 ~ 10\n",
    "!python3 detect.py --weights ./runs/train/YOLOv5_L_100/weights/best.pt --img 640 --conf 0.3 --source \"./detect-테스트사진/TAK-SEN/TAK-SEN1.jpeg\""
   ]
  },
  {
   "cell_type": "code",
   "execution_count": null,
   "metadata": {
    "id": "TVqDTEcH8DQN"
   },
   "outputs": [],
   "source": [
    "# tak 1 ~ 5\n",
    "!python3 detect.py --weights ./runs/train/YOLOv5_L_100/weights/best.pt --img 640 --conf 0.3 --source \"./detect-테스트사진/TAK-SEN/TAK-SEN1.jpeg\""
   ]
  },
  {
   "cell_type": "code",
   "execution_count": null,
   "metadata": {
    "id": "KJ2br-mS8En9"
   },
   "outputs": [],
   "source": [
    "# solu 1 ~ 6\n",
    "!python3 detect.py --weights ./runs/train/YOLOv5_L_100/weights/best.pt --img 640 --conf 0.3 --source \"./detect-테스트사진/solufen/solufen1.jpeg\""
   ]
  },
  {
   "cell_type": "markdown",
   "metadata": {
    "id": "cvS6PpdoAZ51"
   },
   "source": [
    "#본인 계정에서 돌리고 싶으면 수정할 부분\n",
    "\n",
    "1. 본인 yolov5 폴더로 이동 ex(cd /content/drive/MyDrive/yolov5) 제꺼 기준입니다. 본인껄로 수정해주세요\n",
    "2. detect 실행\n",
    "  1.  ./runs/train/YOLOv5_L_100/weights/best.pt 이거 모델 가중치 저장된 경로를 본인 드라이브 기준으로 설정 - 100, 150, 200으로만 하면 될거에요\n",
    "  2. 저장된 이미지 detect에 넣기위해 경로 변경 source 부분 꼭 \"여기에 경로 넣기\"\n",
    "  3. conf 0.3부분은 탐지된 데이터중 0.3 이상으로 탐지된 것만 보이게 조절 0.3말고 그 이상으로 변경하시면 원하는 정확도 이상 보일겁니다.\n",
    "\n",
    "./현재 디텍토리(ex yolov5안에 detect-text폴더 존재하는데 \"./detect-테스트사진은\" 현재 디텍토리에서 detect~사진 폴더로 이동의미 상대경로)\n",
    "\n",
    "../ 이전 디렉토리 의미 detect--테스트사진기준으로 ../하면 yolov5폴더 의미\n",
    "\n",
    "그냥 화나면 절대경로 넣기"
   ]
  },
  {
   "cell_type": "code",
   "execution_count": null,
   "metadata": {
    "id": "4vZ09HP3mQKt"
   },
   "outputs": [],
   "source": []
  }
 ],
 "metadata": {
  "accelerator": "GPU",
  "colab": {
   "authorship_tag": "ABX9TyPQDqB/Fn5OJYumSWOFZZHC",
   "collapsed_sections": [
    "a7G6vagA5g8a"
   ],
   "gpuType": "T4",
   "mount_file_id": "1DrEuQTHo80HXelE1qbb4Hpg6KGaHOEvp",
   "provenance": []
  },
  "kernelspec": {
   "display_name": "Python 3 (ipykernel)",
   "language": "python",
   "name": "python3"
  },
  "language_info": {
   "codemirror_mode": {
    "name": "ipython",
    "version": 3
   },
   "file_extension": ".py",
   "mimetype": "text/x-python",
   "name": "python",
   "nbconvert_exporter": "python",
   "pygments_lexer": "ipython3",
   "version": "3.8.10"
  }
 },
 "nbformat": 4,
 "nbformat_minor": 1
}
